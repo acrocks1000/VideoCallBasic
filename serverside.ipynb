{
 "cells": [
  {
   "cell_type": "code",
   "execution_count": null,
   "id": "ec1d8c1e",
   "metadata": {},
   "outputs": [],
   "source": [
    "import socket,cv2,pickle,struct,threading\n",
    "server_socket = socket.socket()\n",
    "host_ip='26.41.33.52'\n",
    "print('HOST IP :',host_ip)\n",
    "port=9999\n",
    "socket_address=(host_ip,port)\n",
    "\n",
    "#socket Bind\n",
    "server_socket.bind(socket_address)\n",
    "#socket listen\n",
    "server_socket.listen(5)\n",
    "print(\"LISTENING AT:\", socket_address)\n",
    "\n",
    "#socket Accept\n",
    "def sender(client_socket,addr):\n",
    "    print(\"GOT CONNECTION FROM\",addr)\n",
    "    if client_socket:\n",
    "        vid=cv2.VideoCapture(0) \n",
    "        while (vid.isOpened()):\n",
    "            img,frame=vid.read()\n",
    "            cv2.imshow(\"Transmission video\",frame)\n",
    "            key=cv2.waitKey(10)\n",
    "            if key==13:\n",
    "                client_socket.close()\n",
    "            a=pickle.dumps(frame)\n",
    "            message=struct.pack(\"Q\",len(a))+a\n",
    "            client_socket.sendall(message)\n",
    "            #m = client_socket.recv(100)\n",
    "            #print(m)\n",
    "while True:\n",
    "    client_socket,addr=server_socket.accept()\n",
    "    threading.Thread(target=sender, args = (client_socket,addr)).start()\n",
    "cv2.destroyAllWindows()"
   ]
  },
  {
   "cell_type": "code",
   "execution_count": null,
   "id": "71479177",
   "metadata": {},
   "outputs": [],
   "source": [
    "vid.release()"
   ]
  },
  {
   "cell_type": "code",
   "execution_count": null,
   "id": "ca27ea1d",
   "metadata": {},
   "outputs": [],
   "source": []
  }
 ],
 "metadata": {
  "kernelspec": {
   "display_name": "Python 3",
   "language": "python",
   "name": "python3"
  },
  "language_info": {
   "codemirror_mode": {
    "name": "ipython",
    "version": 3
   },
   "file_extension": ".py",
   "mimetype": "text/x-python",
   "name": "python",
   "nbconvert_exporter": "python",
   "pygments_lexer": "ipython3",
   "version": "3.8.8"
  }
 },
 "nbformat": 4,
 "nbformat_minor": 5
}
